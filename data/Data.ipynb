{
 "cells": [
  {
   "cell_type": "code",
   "execution_count": 4,
   "metadata": {},
   "outputs": [],
   "source": [
    "import pandas as pd\n",
    "import seaborn as sns\n",
    "import numpy as np\n",
    "import pickle\n",
    "\n",
    "\n",
    "tox = pd.read_excel('envirotox_20240201154635.xlsx')\n",
    "inp_tox = tox[(tox['Test statistic'] == 'EC50') & (tox['Duration (days)'] == 4)]\n",
    "df_kosh = pd.read_csv('nist_ir_spectra_list_with_bonds.csv')\n",
    "\n",
    "with open('saved_dictionary.pkl', 'rb') as handle:\n",
    "    smiles_dict = pickle.load(handle)\n",
    "smiles_list = []\n",
    "for i,row in inp_tox.iterrows():\n",
    "    smiles_list.append(smiles_dict[row['Chemical name'].split(';')[0]])\n",
    "inp_tox.insert(0, 'smiles', smiles_list)\n",
    "column_list = [i for i in df_kosh.columns if '─' in i]\n",
    "\n",
    "corr_matrix = df_kosh[column_list].corr().abs()\n",
    "upper = corr_matrix.where(np.triu(np.ones(corr_matrix.shape), k=1).astype(bool))\n",
    "to_drop = [column for column in upper.columns if any(upper[column] > 0.75)] \n",
    "df_kosh.drop(to_drop, axis=1, inplace=True)\n",
    "\n",
    "column_list = [i for i in df_kosh.columns if '─' in i]\n",
    "drop_list = []\n",
    "for i in column_list:\n",
    "    if df_kosh[i].sum() == 0:\n",
    "        drop_list.append(i)\n",
    "\n",
    "df_kosh.drop(drop_list, axis=1, inplace=True)\n",
    "dataset = inp_tox.merge(df_kosh, right_on='SMILES', left_on='smiles')\n",
    "dataset.to_csv('EC50_flags.csv', index=False)"
   ]
  }
 ],
 "metadata": {
  "kernelspec": {
   "display_name": "Python 3",
   "language": "python",
   "name": "python3"
  },
  "language_info": {
   "codemirror_mode": {
    "name": "ipython",
    "version": 3
   },
   "file_extension": ".py",
   "mimetype": "text/x-python",
   "name": "python",
   "nbconvert_exporter": "python",
   "pygments_lexer": "ipython3",
   "version": "3.12.2"
  }
 },
 "nbformat": 4,
 "nbformat_minor": 2
}
